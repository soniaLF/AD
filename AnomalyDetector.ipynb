{
 "cells": [
  {
   "cell_type": "code",
   "execution_count": 1,
   "id": "39543e84",
   "metadata": {
    "executionInfo": {
     "elapsed": 3714,
     "status": "ok",
     "timestamp": 1701157885343,
     "user": {
      "displayName": "Mauro Femminella",
      "userId": "09683212438592441315"
     },
     "user_tz": -60
    },
    "id": "39543e84"
   },
   "outputs": [],
   "source": [
    "import pandas as pd\n",
    "import numpy as np\n",
    "from collections import defaultdict\n",
    "\n",
    "import matplotlib.pyplot as plt\n",
    "from matplotlib.lines import Line2D\n",
    "import seaborn as sns\n",
    "import math\n",
    "\n",
    "import time\n",
    "from datetime import timedelta, datetime\n",
    "from sklearn.model_selection import train_test_split\n",
    "from sklearn.metrics import confusion_matrix, zero_one_loss, ConfusionMatrixDisplay, precision_score, recall_score, f1_score\n",
    "\n",
    "import tensorflow as tf\n",
    "from tensorflow import keras\n",
    "from tensorflow.keras import layers\n",
    "from keras import models\n",
    "from keras import callbacks\n",
    "from keras import losses\n"
   ]
  },
  {
   "cell_type": "code",
   "execution_count": 2,
   "id": "63bb60e2-9d28-41db-9285-2d2e46bbc4a9",
   "metadata": {},
   "outputs": [],
   "source": [
    "def reduce_memory_usage(df):\n",
    "    for col in df.columns:\n",
    "        col_type = df[col].dtype\n",
    "        if col_type != object:\n",
    "            c_min = df[col].min()\n",
    "            c_max = df[col].max()\n",
    "            if str(col_type)[:3] == 'int':\n",
    "                if c_min > np.iinfo(np.int8).min and c_max < np.iinfo(np.int8).max:\n",
    "                    df[col] = df[col].astype(np.int8)\n",
    "                elif c_min > np.iinfo(np.int16).min and c_max < np.iinfo(np.int16).max:\n",
    "                    df[col] = df[col].astype(np.int16)\n",
    "                elif c_min > np.iinfo(np.int32).min and c_max < np.iinfo(np.int32).max:\n",
    "                    df[col] = df[col].astype(np.int32)\n",
    "                else:\n",
    "                    df[col] = df[col].astype(np.int64)\n",
    "            else:\n",
    "                if c_min > np.finfo(np.float16).min and c_max < np.finfo(np.float16).max:\n",
    "                    df[col] = df[col].astype(np.float16)\n",
    "                elif c_min > np.finfo(np.float32).min and c_max < np.finfo(np.float32).max:\n",
    "                    df[col] = df[col].astype(np.float32)\n",
    "                else:\n",
    "                    df[col] = df[col].astype(np.float64)\n",
    "    return df"
   ]
  },
  {
   "cell_type": "code",
   "execution_count": 3,
   "id": "9744f4be-d9b8-4248-98bc-cb3194e523f1",
   "metadata": {},
   "outputs": [
    {
     "name": "stdout",
     "output_type": "stream",
     "text": [
      "Dimensione training set: 8444945\n",
      "Dimensione Test Set: 2402405\n"
     ]
    }
   ],
   "source": [
    "# 1. Carica il test set\n",
    "test_set = pd.read_csv('../archive/test_set3_processed.csv')\n",
    "test_set = reduce_memory_usage(test_set)\n",
    "\n",
    "train_b=pd.read_csv('../archive/train_b.csv')\n",
    "train_b = reduce_memory_usage(train_b)\n",
    "print(f\"Dimensione training set: {len(train_b)}\")\n",
    "print(f\"Dimensione Test Set: {len(test_set)}\")\n"
   ]
  },
  {
   "cell_type": "code",
   "execution_count": 4,
   "id": "mnFREo_cRn-F",
   "metadata": {
    "colab": {
     "base_uri": "https://localhost:8080/"
    },
    "executionInfo": {
     "elapsed": 6719,
     "status": "ok",
     "timestamp": 1701160010403,
     "user": {
      "displayName": "Mauro Femminella",
      "userId": "09683212438592441315"
     },
     "user_tz": -60
    },
    "id": "mnFREo_cRn-F",
    "outputId": "4d4586f3-a3fa-4354-941d-c534eba1ca6f"
   },
   "outputs": [
    {
     "name": "stdout",
     "output_type": "stream",
     "text": [
      "Model: \"sequential\"\n",
      "_________________________________________________________________\n",
      " Layer (type)                Output Shape              Param #   \n",
      "=================================================================\n",
      " encoder (Sequential)        (None, 5)                 1145      \n",
      "                                                                 \n",
      " decoder (Sequential)        (None, 43)                1183      \n",
      "                                                                 \n",
      "=================================================================\n",
      "Total params: 2,328\n",
      "Trainable params: 2,328\n",
      "Non-trainable params: 0\n",
      "_________________________________________________________________\n"
     ]
    }
   ],
   "source": [
    "autoencoder=models.load_model('../archive/model3')\n",
    "autoencoder.summary()"
   ]
  },
  {
   "cell_type": "markdown",
   "id": "b37e53e0-eb6f-428a-bc43-5443a852a095",
   "metadata": {},
   "source": [
    "## Calcolo la soglia 99° percentile"
   ]
  },
  {
   "cell_type": "code",
   "execution_count": 5,
   "id": "01342c1a",
   "metadata": {
    "colab": {
     "base_uri": "https://localhost:8080/"
    },
    "executionInfo": {
     "elapsed": 61850,
     "status": "ok",
     "timestamp": 1701161601708,
     "user": {
      "displayName": "Mauro Femminella",
      "userId": "09683212438592441315"
     },
     "user_tz": -60
    },
    "id": "01342c1a",
    "outputId": "e7d868ee-aa66-4e6d-858f-597156047e9e"
   },
   "outputs": [
    {
     "name": "stdout",
     "output_type": "stream",
     "text": [
      "263905/263905 [==============================] - 613s 2ms/step\n",
      "Threshold (99 pctile):  0.010797960832714944\n"
     ]
    }
   ],
   "source": [
    "X_train_predicted = autoencoder.predict(x=train_b)\n",
    "\n",
    "train_events_mse = losses.mean_squared_error(train_b, X_train_predicted)\n",
    "cut_off = np.percentile(train_events_mse, 99)\n",
    "print('Threshold (99 pctile): ',cut_off)"
   ]
  },
  {
   "cell_type": "markdown",
   "id": "7fa1a0da-0525-4763-a250-7a49c219ed24",
   "metadata": {},
   "source": [
    "## Calcolo la soglia 95° percentile"
   ]
  },
  {
   "cell_type": "code",
   "execution_count": 7,
   "id": "gy--cSnSBCVl",
   "metadata": {
    "colab": {
     "base_uri": "https://localhost:8080/"
    },
    "executionInfo": {
     "elapsed": 9,
     "status": "ok",
     "timestamp": 1701161601708,
     "user": {
      "displayName": "Mauro Femminella",
      "userId": "09683212438592441315"
     },
     "user_tz": -60
    },
    "id": "gy--cSnSBCVl",
    "outputId": "874adac2-5e20-420c-b885-cb20a4a7f75e"
   },
   "outputs": [
    {
     "name": "stdout",
     "output_type": "stream",
     "text": [
      "Threshold (95 pctile):  0.0015756306005641808\n"
     ]
    }
   ],
   "source": [
    "cut_off_95 = np.percentile(train_events_mse, 95)\n",
    "print('Threshold (95 pctile): ',cut_off_95)"
   ]
  },
  {
   "cell_type": "code",
   "execution_count": 8,
   "id": "d-hMzzEtBgF_",
   "metadata": {
    "colab": {
     "base_uri": "https://localhost:8080/"
    },
    "executionInfo": {
     "elapsed": 8,
     "status": "ok",
     "timestamp": 1701161601709,
     "user": {
      "displayName": "Mauro Femminella",
      "userId": "09683212438592441315"
     },
     "user_tz": -60
    },
    "id": "d-hMzzEtBgF_",
    "outputId": "afdead89-365f-4124-bd2a-8167101f94f6"
   },
   "outputs": [
    {
     "name": "stdout",
     "output_type": "stream",
     "text": [
      "(8444945,) \n",
      "\n"
     ]
    }
   ],
   "source": [
    "print(train_events_mse.shape,'\\n')"
   ]
  },
  {
   "cell_type": "code",
   "execution_count": 8,
   "id": "l9e6mr3HvF8Y",
   "metadata": {
    "colab": {
     "base_uri": "https://localhost:8080/",
     "height": 477
    },
    "executionInfo": {
     "elapsed": 1510,
     "status": "ok",
     "timestamp": 1701161603214,
     "user": {
      "displayName": "Mauro Femminella",
      "userId": "09683212438592441315"
     },
     "user_tz": -60
    },
    "id": "l9e6mr3HvF8Y",
    "outputId": "e662eb37-df58-4cfe-a1b7-fb8d339f065b"
   },
   "outputs": [
    {
     "data": {
      "text/plain": [
       "<matplotlib.lines.Line2D at 0x21897c1be50>"
      ]
     },
     "execution_count": 8,
     "metadata": {},
     "output_type": "execute_result"
    },
    {
     "data": {
      "image/png": "[encoded data removed]",
      "text/plain": [
       "<Figure size 640x480 with 1 Axes>"
      ]
     },
     "metadata": {},
     "output_type": "display_data"
    }
   ],
   "source": [
    "ax=sns.ecdfplot(data=train_events_mse)\n",
    "ax.set(xscale=\"log\")\n",
    "ax.set_xlabel('MSE')\n",
    "ax.set_ylabel('MSE cdf')\n",
    "\n",
    "n_points=40\n",
    "line_h1 = Line2D(xdata=np.arange(0, cut_off,cut_off/n_points),ydata=np.full(n_points, 0.99),color='red',linewidth=1.5,linestyle='dashed')\n",
    "ax.add_artist(line_h1)\n",
    "line_v1 = Line2D(xdata=np.full(n_points,cut_off),ydata=np.arange(0, 0.99, 1/n_points),color='red',linewidth=1.5,linestyle='dashed')\n",
    "ax.add_artist(line_v1)\n",
    "\n",
    "line_h2 = Line2D(xdata=np.arange(0, cut_off_95,cut_off_95/n_points),ydata=np.full(n_points, 0.95),color='orange',linewidth=1.5,linestyle='dashed')\n",
    "ax.add_artist(line_h2)\n",
    "line_v2 = Line2D(xdata=np.full(n_points,cut_off_95),ydata=np.arange(0, 0.95, 0.96/n_points),color='orange',linewidth=1.5,linestyle='dashed')\n",
    "ax.add_artist(line_v2)"
   ]
  },
  {
   "cell_type": "code",
   "execution_count": 6,
   "id": "32140208-64aa-43f6-b2ff-0183847de0a9",
   "metadata": {},
   "outputs": [],
   "source": [
    "\n",
    "X_test_b=test_set[test_set['target']==0]\n",
    "y_true_b=X_test_b['target']\n",
    "X_test_b=X_test_b.drop(columns=['target'])\n",
    "\n",
    "\n",
    "X_test_a=test_set[test_set['target']==1]\n",
    "y_true_a=X_test_a['target']\n",
    "X_test_a=X_test_a.drop(columns=['target'])\n",
    "\n",
    "\n",
    "y_true= pd.concat([y_true_b, y_true_a], ignore_index=True)"
   ]
  },
  {
   "cell_type": "code",
   "execution_count": null,
   "id": "47385fdd-25db-4220-bc93-2f050e6f8650",
   "metadata": {},
   "outputs": [],
   "source": []
  },
  {
   "cell_type": "code",
   "execution_count": 12,
   "id": "02e8d831",
   "metadata": {
    "colab": {
     "base_uri": "https://localhost:8080/",
     "height": 543
    },
    "executionInfo": {
     "elapsed": 1135,
     "status": "ok",
     "timestamp": 1701161653698,
     "user": {
      "displayName": "Mauro Femminella",
      "userId": "09683212438592441315"
     },
     "user_tz": -60
    },
    "id": "02e8d831",
    "outputId": "6e571f6a-e416-4257-85f4-11522bf9c9d1"
   },
   "outputs": [
    {
     "name": "stdout",
     "output_type": "stream",
     "text": [
      "(100, 43)\n",
      "4/4 [==============================] - 0s 8ms/step\n",
      "(100, 43)\n",
      "4/4 [==============================] - 0s 5ms/step\n"
     ]
    },
    {
     "data": {
      "image/png": "[encoded data removed]",
      "text/plain": [
       "<Figure size 640x480 with 1 Axes>"
      ]
     },
     "metadata": {},
     "output_type": "display_data"
    }
   ],
   "source": [
    "plot_samples = 100\n",
    "n_features = train_b.shape[1]\n",
    "# normal event\n",
    "real_x = X_test_b[:plot_samples].to_numpy().reshape(plot_samples, n_features)\n",
    "print(real_x.shape)\n",
    "predicted_x = autoencoder.predict(x=real_x)\n",
    "normal_events_mse = losses.mean_squared_error(real_x, predicted_x)\n",
    "normal_events_df = pd.DataFrame({'mse': normal_events_mse, 'n': np.arange(0, plot_samples), 'anomaly': np.zeros(plot_samples)})\n",
    "\n",
    "# abnormal event\n",
    "abnormal_x = X_test_a[:plot_samples].to_numpy().reshape(plot_samples, n_features)\n",
    "print(abnormal_x.shape)\n",
    "predicted_x = autoencoder.predict(x=abnormal_x)\n",
    "abnormal_events_mse = losses.mean_squared_error(abnormal_x, predicted_x)\n",
    "\n",
    "abnormal_events_df = pd.DataFrame({'mse': abnormal_events_mse, 'n': np.arange(0, plot_samples), 'anomaly': np.ones(plot_samples)})\n",
    "\n",
    "mse_df = pd.concat([normal_events_df, abnormal_events_df])\n",
    "mse_df = mse_df.reset_index()\n",
    "plot = sns.lineplot(x=mse_df.n, y=mse_df.mse, hue=mse_df.anomaly)\n",
    "\n",
    "line = Line2D(xdata=np.arange(0, plot_samples),ydata=np.full(plot_samples, cut_off),color='red',linewidth=1.5,linestyle='dashed')\n",
    "line2 = Line2D(xdata=np.arange(0, plot_samples),ydata=np.full(plot_samples, cut_off_95),color='green',linewidth=1.5,linestyle='dotted')\n",
    "\n",
    "plot.add_artist(line)\n",
    "plot.add_artist(line2)\n",
    "plt.title('Instances vs Thresholds')\n",
    "plt.show()"
   ]
  },
  {
   "cell_type": "code",
   "execution_count": 13,
   "id": "d50e42e6",
   "metadata": {
    "colab": {
     "base_uri": "https://localhost:8080/"
    },
    "executionInfo": {
     "elapsed": 366,
     "status": "ok",
     "timestamp": 1701161656436,
     "user": {
      "displayName": "Mauro Femminella",
      "userId": "09683212438592441315"
     },
     "user_tz": -60
    },
    "id": "d50e42e6",
    "outputId": "7e9c2ce9-7da2-4bfd-9449-df54397c174d"
   },
   "outputs": [
    {
     "data": {
      "text/plain": [
       "(2111401, 43)"
      ]
     },
     "execution_count": 13,
     "metadata": {},
     "output_type": "execute_result"
    }
   ],
   "source": [
    "X_test_b.shape"
   ]
  },
  {
   "cell_type": "code",
   "execution_count": 14,
   "id": "aabed745",
   "metadata": {
    "colab": {
     "base_uri": "https://localhost:8080/"
    },
    "executionInfo": {
     "elapsed": 3,
     "status": "ok",
     "timestamp": 1701161656839,
     "user": {
      "displayName": "Mauro Femminella",
      "userId": "09683212438592441315"
     },
     "user_tz": -60
    },
    "id": "aabed745",
    "outputId": "37d7e759-69cf-4658-a76b-f1ede06726d2"
   },
   "outputs": [
    {
     "data": {
      "text/plain": [
       "(291004, 43)"
      ]
     },
     "execution_count": 14,
     "metadata": {},
     "output_type": "execute_result"
    }
   ],
   "source": [
    "X_test_a.shape"
   ]
  },
  {
   "cell_type": "markdown",
   "id": "accbebb8",
   "metadata": {
    "id": "accbebb8"
   },
   "source": [
    "# Build the Confusion Matrix"
   ]
  },
  {
   "cell_type": "code",
   "execution_count": 8,
   "id": "ad428af9",
   "metadata": {
    "colab": {
     "base_uri": "https://localhost:8080/"
    },
    "executionInfo": {
     "elapsed": 26701,
     "status": "ok",
     "timestamp": 1701161684652,
     "user": {
      "displayName": "Mauro Femminella",
      "userId": "09683212438592441315"
     },
     "user_tz": -60
    },
    "id": "ad428af9",
    "outputId": "8691ef12-3ba2-41dd-a9e2-07a77982182d"
   },
   "outputs": [
    {
     "name": "stdout",
     "output_type": "stream",
     "text": [
      "65982/65982 [==============================] - 156s 2ms/step\n",
      "9094/9094 [==============================] - 22s 2ms/step\n",
      "Normal instance:  87.58260510438612  us per sample\n",
      "\n",
      "Anomaly instance:  89.56234278564777  us per sample\n",
      "\n",
      "Accuracy: 0.8505\n",
      "Precision Benigni (0): 0.8763\n",
      "Precision Maligni (1): 0.0395\n",
      "Recall Benigni (0): 0.9663\n",
      "Recall Maligni (1): 0.0101\n",
      "Matrice di Confusione:\n",
      "[[2040276   71125]\n",
      " [ 288079    2925]]\n"
     ]
    }
   ],
   "source": [
    "from sklearn.metrics import confusion_matrix, accuracy_score, precision_score, recall_score\n",
    "samples_b = X_test_b.shape[0]\n",
    "n_features = train_b.shape[1]\n",
    "# normal event\n",
    "\n",
    "#real_x_b trasforma il dataframe pandas in un array numpy \n",
    "real_x_b = X_test_b.to_numpy().reshape(samples_b, n_features)\n",
    "t_0=time.monotonic()\n",
    "#predicted_x_b contiene la ricostruzione di X_test_b fatta dall'autoencoder\n",
    "predicted_x_b = autoencoder.predict(x=real_x_b)\n",
    "#normal_events_mse_ext misura il mse tra la previsione e l'originale dei soli campioni benigni\n",
    "normal_events_mse_ext = losses.mean_squared_error(real_x_b, predicted_x_b)\n",
    "t_1=time.monotonic()\n",
    "#normal_events_mse_ext viene organizzato in un dataframe pandas con la colonna chiamata 'mse'\n",
    "normal_events_df_ext = pd.DataFrame({'mse': normal_events_mse_ext})\n",
    "\n",
    "# abnormal event\n",
    "samples_a = X_test_a.shape[0]\n",
    "t_2=time.monotonic()\n",
    "abnormal_x_a = X_test_a.to_numpy().reshape(samples_a, n_features)\n",
    "predicted_x_a = autoencoder.predict(x=abnormal_x_a)\n",
    "abnormal_events_mse_ext = losses.mean_squared_error(abnormal_x_a, predicted_x_a)\n",
    "t_3=time.monotonic()\n",
    "abnormal_events_df_ext = pd.DataFrame({'mse': abnormal_events_mse_ext})\n",
    "\n",
    "print('Normal instance: ',(t_1-t_0)/samples_b*1e6,' us per sample\\n')\n",
    "print('Anomaly instance: ',(t_3-t_2)/samples_a*1e6,' us per sample\\n')\n",
    "mse_tot = pd.concat([abnormal_events_df_ext, normal_events_df_ext], ignore_index=True)\n",
    "\n",
    "# threshold = 0.010797960832714944\n",
    "\n",
    "# y_pred = (mse_tot > threshold).astype(int)  # 1 per anomalia, 0 per normale\n",
    "\n",
    "# # 7. Calcola le metriche di performance\n",
    "# accuracy = accuracy_score(y_true, y_pred)\n",
    "\n",
    "# # Precision e Recall separati per ciascuna classe (0=benigno, 1=maligno)\n",
    "# precision = precision_score(y_true, y_pred, average=None)\n",
    "# recall = recall_score(y_true, y_pred, average=None)\n",
    "\n",
    "# # 8. Matrice di confusione\n",
    "# conf_matrix = confusion_matrix(y_true, y_pred)\n",
    "\n",
    "# # 9. Stampa i risultati\n",
    "# print(f\"Accuracy: {accuracy:.4f}\")\n",
    "# print(f\"Precision Benigni (0): {precision[0]:.4f}\")\n",
    "# print(f\"Precision Maligni (1): {precision[1]:.4f}\")\n",
    "# print(f\"Recall Benigni (0): {recall[0]:.4f}\")\n",
    "# print(f\"Recall Maligni (1): {recall[1]:.4f}\")\n",
    "# print(\"Matrice di Confusione:\")\n",
    "# print(conf_matrix)"
   ]
  },
  {
   "cell_type": "code",
   "execution_count": 16,
   "id": "b6024124",
   "metadata": {
    "executionInfo": {
     "elapsed": 12,
     "status": "ok",
     "timestamp": 1701161684652,
     "user": {
      "displayName": "Mauro Femminella",
      "userId": "09683212438592441315"
     },
     "user_tz": -60
    },
    "id": "b6024124"
   },
   "outputs": [],
   "source": [
    "#calcolo dei falsi negativi: abnormal_events_df_ext contiene i valori di mse calcolati SOLO sui campioni anomali, \n",
    "#perciò il numero di valori di mse che è inferiore a cut_off sarebbe classificato dal modello come benigno erroneamente. \n",
    "#Sono i falsi benigni \n",
    "count_fn = len(abnormal_events_df_ext[abnormal_events_df_ext.mse <= cut_off].value_counts())"
   ]
  },
  {
   "cell_type": "code",
   "execution_count": 17,
   "id": "c1b9c73b",
   "metadata": {
    "executionInfo": {
     "elapsed": 10,
     "status": "ok",
     "timestamp": 1701161684652,
     "user": {
      "displayName": "Mauro Femminella",
      "userId": "09683212438592441315"
     },
     "user_tz": -60
    },
    "id": "c1b9c73b"
   },
   "outputs": [],
   "source": [
    "#l'insieme dei falsi maligni, quindi tutti i campioni > cut_off che dal classificatore sarebbero classificati come anomali \n",
    "#appunto perché > cut_off ma in realta sono benigni\n",
    "count_fp = len(normal_events_df_ext[normal_events_df_ext.mse > cut_off].value_counts())"
   ]
  },
  {
   "cell_type": "code",
   "execution_count": 18,
   "id": "a2e39e66",
   "metadata": {
    "executionInfo": {
     "elapsed": 10,
     "status": "ok",
     "timestamp": 1701161684653,
     "user": {
      "displayName": "Mauro Femminella",
      "userId": "09683212438592441315"
     },
     "user_tz": -60
    },
    "id": "a2e39e66"
   },
   "outputs": [],
   "source": [
    "#veri maligni : totale campioni maligni - quelli classificati come benigni ma erano maligni (quindi i maligni mancati) \n",
    "tp = samples_a - count_fn"
   ]
  },
  {
   "cell_type": "code",
   "execution_count": 19,
   "id": "538c5a6b",
   "metadata": {
    "executionInfo": {
     "elapsed": 8,
     "status": "ok",
     "timestamp": 1701161684653,
     "user": {
      "displayName": "Mauro Femminella",
      "userId": "09683212438592441315"
     },
     "user_tz": -60
    },
    "id": "538c5a6b"
   },
   "outputs": [],
   "source": [
    "#veri benigni: tatale campioni benigni - benigni mancati \n",
    "tn = samples_b - count_fp"
   ]
  },
  {
   "cell_type": "code",
   "execution_count": 20,
   "id": "da485542",
   "metadata": {
    "executionInfo": {
     "elapsed": 7,
     "status": "ok",
     "timestamp": 1701161684653,
     "user": {
      "displayName": "Mauro Femminella",
      "userId": "09683212438592441315"
     },
     "user_tz": -60
    },
    "id": "da485542"
   },
   "outputs": [],
   "source": [
    "conf_mat = [[tp, count_fn],[count_fp, tn]]"
   ]
  },
  {
   "cell_type": "code",
   "execution_count": 21,
   "id": "e41ba94d",
   "metadata": {
    "executionInfo": {
     "elapsed": 8,
     "status": "ok",
     "timestamp": 1701161684654,
     "user": {
      "displayName": "Mauro Femminella",
      "userId": "09683212438592441315"
     },
     "user_tz": -60
    },
    "id": "e41ba94d"
   },
   "outputs": [],
   "source": [
    "conf_mat = np.array(conf_mat)"
   ]
  },
  {
   "cell_type": "code",
   "execution_count": 22,
   "id": "1fc78dce",
   "metadata": {
    "colab": {
     "base_uri": "https://localhost:8080/",
     "height": 449
    },
    "executionInfo": {
     "elapsed": 447,
     "status": "ok",
     "timestamp": 1701161685094,
     "user": {
      "displayName": "Mauro Femminella",
      "userId": "09683212438592441315"
     },
     "user_tz": -60
    },
    "id": "1fc78dce",
    "outputId": "6706ede5-975f-4fcd-dbb8-205ee7e113bf"
   },
   "outputs": [
    {
     "data": {
      "image/png": "[encoded data removed]",
      "text/plain": [
       "<Figure size 640x480 with 2 Axes>"
      ]
     },
     "metadata": {},
     "output_type": "display_data"
    }
   ],
   "source": [
    "labels_cm = ['Attack' , 'Benign']\n",
    "disp_cm = ConfusionMatrixDisplay(confusion_matrix=conf_mat, display_labels=labels_cm)\n",
    "disp_cm.plot()\n",
    "plt.show()"
   ]
  },
  {
   "cell_type": "code",
   "execution_count": 23,
   "id": "e0a9f3b2",
   "metadata": {
    "colab": {
     "base_uri": "https://localhost:8080/"
    },
    "executionInfo": {
     "elapsed": 341,
     "status": "ok",
     "timestamp": 1701000966162,
     "user": {
      "displayName": "Mauro Femminella",
      "userId": "09683212438592441315"
     },
     "user_tz": -60
    },
    "id": "e0a9f3b2",
    "outputId": "61e4a1cc-6c4a-42c9-bb24-e4f3dfd6d318"
   },
   "outputs": [
    {
     "name": "stdout",
     "output_type": "stream",
     "text": [
      "Precision (attack):  0.9403467490658979\n",
      "Precision (benign):  0.9999655998971819\n"
     ]
    }
   ],
   "source": [
    "precision_attack=(tp)/(tp+count_fp)\n",
    "print('Precision (attack): ',precision_attack)\n",
    "\n",
    "precision_benign=(tn)/(tn+count_fn)\n",
    "print('Precision (benign): ',precision_benign)"
   ]
  },
  {
   "cell_type": "code",
   "execution_count": 24,
   "id": "2f8cd7f2",
   "metadata": {
    "colab": {
     "base_uri": "https://localhost:8080/"
    },
    "executionInfo": {
     "elapsed": 3,
     "status": "ok",
     "timestamp": 1701000967010,
     "user": {
      "displayName": "Mauro Femminella",
      "userId": "09683212438592441315"
     },
     "user_tz": -60
    },
    "id": "2f8cd7f2",
    "outputId": "7efae5a6-3c20-41c1-eef7-1a79cb43d7ee"
   },
   "outputs": [
    {
     "name": "stdout",
     "output_type": "stream",
     "text": [
      "Recall (attack):  0.99975258072054\n",
      "Recall (benign):  0.9912588845037016\n"
     ]
    }
   ],
   "source": [
    "recall_attack=(tp)/(tp+count_fn)\n",
    "print('Recall (attack): ',recall_attack)\n",
    "recall_benign=(tn)/(tn+count_fp)\n",
    "print('Recall (benign): ',recall_benign)"
   ]
  },
  {
   "cell_type": "code",
   "execution_count": 25,
   "id": "bfc1b12a-0ab5-41c6-8f89-bf11ae3f7460",
   "metadata": {},
   "outputs": [
    {
     "name": "stdout",
     "output_type": "stream",
     "text": [
      "Accuracy:  0.9922877283388938\n"
     ]
    }
   ],
   "source": [
    "accuracy=(tp+tn)/(tp+tn+count_fn+count_fp)\n",
    "print('Accuracy: ',accuracy)"
   ]
  },
  {
   "cell_type": "code",
   "execution_count": null,
   "id": "36b7846c-81fc-451d-b1d1-39c34812bc74",
   "metadata": {},
   "outputs": [],
   "source": []
  }
 ],
 "metadata": {
  "accelerator": "GPU",
  "celltoolbar": "Raw Cell Format",
  "colab": {
   "provenance": []
  },
  "gpuClass": "standard",
  "kernelspec": {
   "display_name": "Python 3 (ipykernel)",
   "language": "python",
   "name": "python3"
  },
  "language_info": {
   "codemirror_mode": {
    "name": "ipython",
    "version": 3
   },
   "file_extension": ".py",
   "mimetype": "text/x-python",
   "name": "python",
   "nbconvert_exporter": "python",
   "pygments_lexer": "ipython3",
   "version": "3.9.18"
  }
 },
 "nbformat": 4,
 "nbformat_minor": 5
}
