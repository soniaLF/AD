{
 "cells": [
  {
   "cell_type": "code",
   "execution_count": 1,
   "id": "39543e84",
   "metadata": {
    "executionInfo": {
     "elapsed": 3714,
     "status": "ok",
     "timestamp": 1701157885343,
     "user": {
      "displayName": "Mauro Femminella",
      "userId": "09683212438592441315"
     },
     "user_tz": -60
    },
    "id": "39543e84"
   },
   "outputs": [],
   "source": [
    "import pandas as pd\n",
    "import numpy as np\n",
    "from collections import defaultdict\n",
    "\n",
    "import matplotlib.pyplot as plt\n",
    "from matplotlib.lines import Line2D\n",
    "import seaborn as sns\n",
    "import math\n",
    "\n",
    "import time\n",
    "from datetime import timedelta, datetime\n",
    "from sklearn.model_selection import train_test_split\n",
    "from sklearn.metrics import confusion_matrix, zero_one_loss, ConfusionMatrixDisplay, precision_score, recall_score, f1_score\n",
    "\n",
    "import tensorflow as tf\n",
    "from tensorflow import keras\n",
    "from tensorflow.keras import layers\n",
    "from keras import models\n",
    "from keras import callbacks\n",
    "from keras import losses\n"
   ]
  },
  {
   "cell_type": "markdown",
   "id": "690a796d-17db-4c7f-bd69-6f402bc15c25",
   "metadata": {},
   "source": [
    "## Funzione per ridurre l'uso della memoria"
   ]
  },
  {
   "cell_type": "code",
   "execution_count": 2,
   "id": "35f4ae40-786c-4668-85ce-6ff76128bae7",
   "metadata": {},
   "outputs": [],
   "source": [
    "def reduce_memory_usage(df):\n",
    "    for col in df.columns:\n",
    "        col_type = df[col].dtype\n",
    "        if col_type != object:\n",
    "            c_min = df[col].min()\n",
    "            c_max = df[col].max()\n",
    "            if str(col_type)[:3] == 'int':\n",
    "                if c_min > np.iinfo(np.int8).min and c_max < np.iinfo(np.int8).max:\n",
    "                    df[col] = df[col].astype(np.int8)\n",
    "                elif c_min > np.iinfo(np.int16).min and c_max < np.iinfo(np.int16).max:\n",
    "                    df[col] = df[col].astype(np.int16)\n",
    "                elif c_min > np.iinfo(np.int32).min and c_max < np.iinfo(np.int32).max:\n",
    "                    df[col] = df[col].astype(np.int32)\n",
    "                else:\n",
    "                    df[col] = df[col].astype(np.int64)\n",
    "            else:\n",
    "                if c_min > np.finfo(np.float16).min and c_max < np.finfo(np.float16).max:\n",
    "                    df[col] = df[col].astype(np.float16)\n",
    "                elif c_min > np.finfo(np.float32).min and c_max < np.finfo(np.float32).max:\n",
    "                    df[col] = df[col].astype(np.float32)\n",
    "                else:\n",
    "                    df[col] = df[col].astype(np.float64)\n",
    "    return df\n"
   ]
  },
  {
   "cell_type": "markdown",
   "id": "b053fca4",
   "metadata": {
    "id": "b053fca4"
   },
   "source": [
    "# Caricamento e preprocessing del Dataset\n",
    "import dei datset per il training e per il test\n",
    "\n",
    "X_train contiene i soli campioni benigni\n",
    "\n",
    "y_train contiene solo etichette benigne\n",
    "\n",
    "X_test contiene solo le feature\n",
    "\n",
    "y_test contiene solo le etichette"
   ]
  },
  {
   "cell_type": "code",
   "execution_count": 3,
   "id": "d91e4fdf",
   "metadata": {
    "colab": {
     "base_uri": "https://localhost:8080/"
    },
    "executionInfo": {
     "elapsed": 1729,
     "status": "ok",
     "timestamp": 1701157916246,
     "user": {
      "displayName": "Mauro Femminella",
      "userId": "09683212438592441315"
     },
     "user_tz": -60
    },
    "id": "d91e4fdf",
    "outputId": "b9491362-4ff5-4a43-eab7-d0f8388356bd"
   },
   "outputs": [
    {
     "name": "stdout",
     "output_type": "stream",
     "text": [
      "(8444945, 43) (2402405, 43) 10847350\n"
     ]
    }
   ],
   "source": [
    "# Caricamento dei dati per il training e il test\n",
    "train_df = pd.read_csv('../archive/training_set3_processed.csv')\n",
    "test_df = pd.read_csv('../archive/test_set3_processed.csv')\n",
    "# Applicazione della funzione per ridurre l'uso della memoria\n",
    "train_df = reduce_memory_usage(train_df)\n",
    "test_df = reduce_memory_usage(test_df)\n",
    "\n",
    "# Separa le feature e le label per training e test\n",
    "# X_train contiene solo i campioni benigni\n",
    "X_train = train_df[train_df['target'] == 0].drop(columns=['target'])\n",
    "\n",
    "X_train.to_csv('../archive/train_b.csv', index=False)\n",
    "\n",
    "# Crea y_train contenente solo le etichette (tutti 0)\n",
    "y_train = train_df[train_df['target'] == 0]['target'].to_numpy() \n",
    "\n",
    "X_test = test_df.drop(columns=['target'])\n",
    "y_test = test_df['target']\n",
    "\n",
    "print(X_train.shape, X_test.shape, X_train.shape[0] + X_test.shape[0])"
   ]
  },
  {
   "cell_type": "code",
   "execution_count": 4,
   "id": "d0822639",
   "metadata": {
    "colab": {
     "base_uri": "https://localhost:8080/"
    },
    "executionInfo": {
     "elapsed": 10,
     "status": "ok",
     "timestamp": 1701157917611,
     "user": {
      "displayName": "Mauro Femminella",
      "userId": "09683212438592441315"
     },
     "user_tz": -60
    },
    "id": "d0822639",
    "outputId": "85627542-b9f4-4822-fc0b-91f01522daf0"
   },
   "outputs": [
    {
     "data": {
      "text/plain": [
       "(8444945, 43)"
      ]
     },
     "execution_count": 4,
     "metadata": {},
     "output_type": "execute_result"
    }
   ],
   "source": [
    "X_train.shape"
   ]
  },
  {
   "cell_type": "code",
   "execution_count": 5,
   "id": "1cb682b1",
   "metadata": {
    "colab": {
     "base_uri": "https://localhost:8080/"
    },
    "executionInfo": {
     "elapsed": 9,
     "status": "ok",
     "timestamp": 1701157917611,
     "user": {
      "displayName": "Mauro Femminella",
      "userId": "09683212438592441315"
     },
     "user_tz": -60
    },
    "id": "1cb682b1",
    "outputId": "caf0f110-913f-47e3-a4bd-ffb9b06ef814"
   },
   "outputs": [
    {
     "data": {
      "text/plain": [
       "(2402405, 43)"
      ]
     },
     "execution_count": 5,
     "metadata": {},
     "output_type": "execute_result"
    }
   ],
   "source": [
    "X_test.shape"
   ]
  },
  {
   "cell_type": "code",
   "execution_count": 6,
   "id": "a8e608fa",
   "metadata": {
    "colab": {
     "base_uri": "https://localhost:8080/"
    },
    "executionInfo": {
     "elapsed": 7,
     "status": "ok",
     "timestamp": 1701157917611,
     "user": {
      "displayName": "Mauro Femminella",
      "userId": "09683212438592441315"
     },
     "user_tz": -60
    },
    "id": "a8e608fa",
    "outputId": "258e85cd-60af-4ea0-8420-93e866610eb6"
   },
   "outputs": [
    {
     "data": {
      "text/plain": [
       "(8444945,)"
      ]
     },
     "execution_count": 6,
     "metadata": {},
     "output_type": "execute_result"
    }
   ],
   "source": [
    "y_train.shape"
   ]
  },
  {
   "cell_type": "code",
   "execution_count": 7,
   "id": "fd5ed4d1",
   "metadata": {
    "colab": {
     "base_uri": "https://localhost:8080/"
    },
    "executionInfo": {
     "elapsed": 5,
     "status": "ok",
     "timestamp": 1701157917611,
     "user": {
      "displayName": "Mauro Femminella",
      "userId": "09683212438592441315"
     },
     "user_tz": -60
    },
    "id": "fd5ed4d1",
    "outputId": "a0d0070c-3178-42e0-ec3d-c1798547e13b"
   },
   "outputs": [
    {
     "data": {
      "text/plain": [
       "(2402405,)"
      ]
     },
     "execution_count": 7,
     "metadata": {},
     "output_type": "execute_result"
    }
   ],
   "source": [
    "y_test.shape"
   ]
  },
  {
   "cell_type": "markdown",
   "id": "ffd37516-0df6-4880-ac66-bcf2600e3372",
   "metadata": {},
   "source": [
    "## Split del training in training e validation"
   ]
  },
  {
   "cell_type": "code",
   "execution_count": 8,
   "id": "ZiVR249BdVRc",
   "metadata": {
    "executionInfo": {
     "elapsed": 774,
     "status": "ok",
     "timestamp": 1701157918381,
     "user": {
      "displayName": "Mauro Femminella",
      "userId": "09683212438592441315"
     },
     "user_tz": -60
    },
    "id": "ZiVR249BdVRc"
   },
   "outputs": [],
   "source": [
    "# split train -> train_t + validation dataset\n",
    "X_train_t, X_val, y_train_t, y_val = train_test_split(X_train, y_train, test_size=0.2, random_state=42)\n"
   ]
  },
  {
   "cell_type": "code",
   "execution_count": 9,
   "id": "yVP0C2bZfttz",
   "metadata": {
    "colab": {
     "base_uri": "https://localhost:8080/"
    },
    "executionInfo": {
     "elapsed": 11,
     "status": "ok",
     "timestamp": 1701157922104,
     "user": {
      "displayName": "Mauro Femminella",
      "userId": "09683212438592441315"
     },
     "user_tz": -60
    },
    "id": "yVP0C2bZfttz",
    "outputId": "309295b9-9dca-4d9d-9340-9ea4115f7645"
   },
   "outputs": [
    {
     "name": "stdout",
     "output_type": "stream",
     "text": [
      "(6755956, 43) (1688989, 43) (8444945, 43)\n"
     ]
    }
   ],
   "source": [
    "print(X_train_t.shape,X_val.shape,X_train.shape)"
   ]
  },
  {
   "cell_type": "code",
   "execution_count": 10,
   "id": "95449762",
   "metadata": {
    "executionInfo": {
     "elapsed": 647,
     "status": "ok",
     "timestamp": 1701161621710,
     "user": {
      "displayName": "Mauro Femminella",
      "userId": "09683212438592441315"
     },
     "user_tz": -60
    },
    "id": "95449762"
   },
   "outputs": [
    {
     "name": "stdout",
     "output_type": "stream",
     "text": [
      "(2402405, 44)\n"
     ]
    }
   ],
   "source": [
    "# Inserisci le etichette nel DataFrame X_test\n",
    "X_test.insert(X_test.shape[1], 'target', y_test, True)\n",
    "\n",
    "print(X_test.shape)\n",
    "X_test_b = X_test.drop(X_test[X_test['target'] == 1].index)  # Solo campioni benigni\n",
    "\n",
    "X_test_a = X_test.drop(X_test[X_test['target'] == 0].index)  # Solo campioni maligni\n",
    "\n",
    "# Rimozione della colonna 'target' da X_test_a\n",
    "X_test_a = X_test_a.drop(['target'], axis=1)\n",
    "\n",
    "# Rimozione della colonna 'target' da X_test_b\n",
    "X_test_b = X_test_b.drop(['target'], axis=1)\n",
    "\n",
    "# Rimozione della colonna 'target' da X_test\n",
    "X_test = X_test.drop(['target'], axis=1)\n"
   ]
  },
  {
   "cell_type": "code",
   "execution_count": 11,
   "id": "bb7f0e48",
   "metadata": {
    "colab": {
     "base_uri": "https://localhost:8080/"
    },
    "executionInfo": {
     "elapsed": 351,
     "status": "ok",
     "timestamp": 1701000851078,
     "user": {
      "displayName": "Mauro Femminella",
      "userId": "09683212438592441315"
     },
     "user_tz": -60
    },
    "id": "bb7f0e48",
    "outputId": "b4d00540-915d-4485-b9e3-2f7eb250d3b6"
   },
   "outputs": [
    {
     "name": "stdout",
     "output_type": "stream",
     "text": [
      "(2402405, 43) (291004, 43) (2111401, 43)\n"
     ]
    }
   ],
   "source": [
    "print(X_test.shape, X_test_a.shape,X_test_b.shape)"
   ]
  },
  {
   "cell_type": "code",
   "execution_count": 12,
   "id": "rA-Cl8M9Tq5s",
   "metadata": {
    "executionInfo": {
     "elapsed": 329,
     "status": "ok",
     "timestamp": 1701161647754,
     "user": {
      "displayName": "Mauro Femminella",
      "userId": "09683212438592441315"
     },
     "user_tz": -60
    },
    "id": "rA-Cl8M9Tq5s"
   },
   "outputs": [
    {
     "name": "stdout",
     "output_type": "stream",
     "text": [
      "43\n"
     ]
    }
   ],
   "source": [
    "n_features = X_train.shape[1]\n",
    "print(n_features)"
   ]
  },
  {
   "cell_type": "code",
   "execution_count": 13,
   "id": "ad811b4a",
   "metadata": {
    "colab": {
     "base_uri": "https://localhost:8080/",
     "height": 1000
    },
    "executionInfo": {
     "elapsed": 2292587,
     "status": "ok",
     "timestamp": 1700589098776,
     "user": {
      "displayName": "Mauro Femminella",
      "userId": "09683212438592441315"
     },
     "user_tz": -60
    },
    "id": "ad811b4a",
    "outputId": "4adf9eb2-914b-4170-b36c-d1087e8873b1"
   },
   "outputs": [
    {
     "name": "stdout",
     "output_type": "stream",
     "text": [
      "Epoch 1/50\n",
      "211124/211124 [==============================] - 541s 3ms/step - loss: 0.0019 - mean_squared_error: 0.0019 - val_loss: 8.7110e-04 - val_mean_squared_error: 8.7110e-04\n",
      "Epoch 2/50\n",
      "211124/211124 [==============================] - 549s 3ms/step - loss: 0.0013 - mean_squared_error: 0.0013 - val_loss: 7.8769e-04 - val_mean_squared_error: 7.8769e-04\n",
      "Epoch 3/50\n",
      "211124/211124 [==============================] - 549s 3ms/step - loss: 0.0012 - mean_squared_error: 0.0012 - val_loss: 7.3188e-04 - val_mean_squared_error: 7.3188e-04\n",
      "Epoch 4/50\n",
      "211124/211124 [==============================] - 549s 3ms/step - loss: 0.0012 - mean_squared_error: 0.0012 - val_loss: 8.0839e-04 - val_mean_squared_error: 8.0839e-04\n",
      "Epoch 5/50\n",
      "211124/211124 [==============================] - 555s 3ms/step - loss: 0.0012 - mean_squared_error: 0.0012 - val_loss: 6.9477e-04 - val_mean_squared_error: 6.9477e-04\n",
      "Epoch 6/50\n",
      "211124/211124 [==============================] - 554s 3ms/step - loss: 0.0011 - mean_squared_error: 0.0011 - val_loss: 6.9290e-04 - val_mean_squared_error: 6.9290e-04\n",
      "Epoch 7/50\n",
      "211124/211124 [==============================] - 555s 3ms/step - loss: 0.0011 - mean_squared_error: 0.0011 - val_loss: 6.7439e-04 - val_mean_squared_error: 6.7439e-04\n",
      "Epoch 8/50\n",
      "211124/211124 [==============================] - 557s 3ms/step - loss: 0.0011 - mean_squared_error: 0.0011 - val_loss: 6.8921e-04 - val_mean_squared_error: 6.8921e-04\n",
      "Epoch 9/50\n",
      "211124/211124 [==============================] - 557s 3ms/step - loss: 0.0011 - mean_squared_error: 0.0011 - val_loss: 6.2414e-04 - val_mean_squared_error: 6.2414e-04\n",
      "Epoch 10/50\n",
      "211124/211124 [==============================] - 557s 3ms/step - loss: 0.0012 - mean_squared_error: 0.0012 - val_loss: 0.0013 - val_mean_squared_error: 0.0013\n",
      "Epoch 11/50\n",
      "211124/211124 [==============================] - 565s 3ms/step - loss: 0.0011 - mean_squared_error: 0.0011 - val_loss: 6.2742e-04 - val_mean_squared_error: 6.2742e-04\n",
      "Epoch 12/50\n",
      "211124/211124 [==============================] - 577s 3ms/step - loss: 0.0011 - mean_squared_error: 0.0011 - val_loss: 6.5658e-04 - val_mean_squared_error: 6.5658e-04\n",
      "Epoch 13/50\n",
      "211124/211124 [==============================] - 574s 3ms/step - loss: 0.0011 - mean_squared_error: 0.0011 - val_loss: 6.2336e-04 - val_mean_squared_error: 6.2336e-04\n",
      "Epoch 14/50\n",
      "211124/211124 [==============================] - 574s 3ms/step - loss: 0.0011 - mean_squared_error: 0.0011 - val_loss: 6.3643e-04 - val_mean_squared_error: 6.3643e-04\n",
      "Epoch 15/50\n",
      "211124/211124 [==============================] - 581s 3ms/step - loss: 0.0010 - mean_squared_error: 0.0010 - val_loss: 5.8065e-04 - val_mean_squared_error: 5.8065e-04\n",
      "Epoch 16/50\n",
      "211124/211124 [==============================] - 588s 3ms/step - loss: 0.0010 - mean_squared_error: 0.0010 - val_loss: 6.7903e-04 - val_mean_squared_error: 6.7903e-04\n",
      "Epoch 17/50\n",
      "211124/211124 [==============================] - 590s 3ms/step - loss: 0.0011 - mean_squared_error: 0.0011 - val_loss: 6.1535e-04 - val_mean_squared_error: 6.1535e-04\n",
      "Epoch 18/50\n",
      "211124/211124 [==============================] - 592s 3ms/step - loss: 0.0011 - mean_squared_error: 0.0011 - val_loss: 6.2062e-04 - val_mean_squared_error: 6.2062e-04\n",
      "Epoch 19/50\n",
      "211124/211124 [==============================] - 595s 3ms/step - loss: 0.0011 - mean_squared_error: 0.0011 - val_loss: 7.1885e-04 - val_mean_squared_error: 7.1885e-04\n"
     ]
    },
    {
     "data": {
      "image/png": "[encoded data removed]",
      "text/plain": [
       "<Figure size 640x480 with 1 Axes>"
      ]
     },
     "metadata": {},
     "output_type": "display_data"
    }
   ],
   "source": [
    "# model\n",
    "\n",
    "n_features = X_train.shape[1]\n",
    "\n",
    "encoder = models.Sequential(name='encoder')\n",
    "encoder.add(layer=layers.Dense(units=20, activation='relu', input_shape=[n_features]))\n",
    "encoder.add(layers.Dropout(0.1))\n",
    "encoder.add(layer=layers.Dense(units=10, activation='relu'))\n",
    "encoder.add(layer=layers.Dense(units=5, activation='relu'))\n",
    "\n",
    "decoder = models.Sequential(name='decoder')\n",
    "decoder.add(layer=layers.Dense(units=10, activation='relu', input_shape=[5]))\n",
    "decoder.add(layer=layers.Dense(units=20, activation='relu'))\n",
    "decoder.add(layers.Dropout(0.1))\n",
    "decoder.add(layer=layers.Dense(units=n_features, activation='sigmoid'))\n",
    "\n",
    "autoencoder = models.Sequential([encoder, decoder])\n",
    "\n",
    "autoencoder.compile(loss='MSE', optimizer='adam', metrics='mean_squared_error')\n",
    "\n",
    "# train model\n",
    "\n",
    "es = callbacks.EarlyStopping(monitor='val_loss', min_delta=0.0001, patience=10, restore_best_weights=True)\n",
    "history = autoencoder.fit(x=X_train_t, y=X_train_t, epochs=50, verbose=1, validation_data=[X_val, X_val], callbacks=[es])\n",
    "plt.plot(history.history['loss'])\n",
    "plt.plot(history.history['val_loss'])\n",
    "plt.title('Model Loss')\n",
    "plt.ylabel('Loss')\n",
    "plt.xlabel('Epoch')\n",
    "plt.legend(['Train', 'Validation'], loc='upper right')\n",
    "plt.show()"
   ]
  },
  {
   "cell_type": "code",
   "execution_count": 14,
   "id": "1f01ddeb",
   "metadata": {
    "colab": {
     "base_uri": "https://localhost:8080/",
     "height": 196
    },
    "executionInfo": {
     "elapsed": 813,
     "status": "error",
     "timestamp": 1700593586039,
     "user": {
      "displayName": "Mauro Femminella",
      "userId": "09683212438592441315"
     },
     "user_tz": -60
    },
    "id": "1f01ddeb",
    "outputId": "ae37b89c-d3f5-40f3-e295-4d2d3f59e748"
   },
   "outputs": [
    {
     "name": "stdout",
     "output_type": "stream",
     "text": [
      "Model: \"sequential\"\n",
      "_________________________________________________________________\n",
      " Layer (type)                Output Shape              Param #   \n",
      "=================================================================\n",
      " encoder (Sequential)        (None, 5)                 1145      \n",
      "                                                                 \n",
      " decoder (Sequential)        (None, 43)                1183      \n",
      "                                                                 \n",
      "=================================================================\n",
      "Total params: 2,328\n",
      "Trainable params: 2,328\n",
      "Non-trainable params: 0\n",
      "_________________________________________________________________\n",
      "INFO:tensorflow:Assets written to: ../archive/model3\\assets\n"
     ]
    }
   ],
   "source": [
    "autoencoder.summary()\n",
    "models.save_model(autoencoder, '../archive/model3')"
   ]
  },
  {
   "cell_type": "code",
   "execution_count": null,
   "id": "2f58cf89-3dad-4b96-b270-808a6a831875",
   "metadata": {},
   "outputs": [],
   "source": []
  }
 ],
 "metadata": {
  "accelerator": "GPU",
  "celltoolbar": "Raw Cell Format",
  "colab": {
   "provenance": []
  },
  "gpuClass": "standard",
  "kernelspec": {
   "display_name": "Python 3 (ipykernel)",
   "language": "python",
   "name": "python3"
  },
  "language_info": {
   "codemirror_mode": {
    "name": "ipython",
    "version": 3
   },
   "file_extension": ".py",
   "mimetype": "text/x-python",
   "name": "python",
   "nbconvert_exporter": "python",
   "pygments_lexer": "ipython3",
   "version": "3.9.18"
  }
 },
 "nbformat": 4,
 "nbformat_minor": 5
}
